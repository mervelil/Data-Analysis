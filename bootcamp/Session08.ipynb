{
 "cells": [
  {
   "cell_type": "code",
   "execution_count": 1,
   "id": "fc7fb59e",
   "metadata": {},
   "outputs": [],
   "source": [
    "# import numpy as np\n",
    "# create arrays\n",
    "# np.array()\n",
    "# np.arange()\n",
    "# np.ones()\n",
    "# np.zeros()\n",
    "# np.eye()\n",
    "# np.linspace()\n",
    "\n",
    "# access items\n",
    "# a[row, col], a[row][row]\n",
    "\n",
    "# Facny indexing\n",
    "# a[a==5], a[a<5]\n",
    "\n",
    "# array shape\n",
    "# a.shape , a=a.reshape()\n",
    "\n",
    "# Operators:\n",
    "# + - * / ** %\n",
    "# > < >= <= == !=\n",
    "# & | ~\n",
    "\n",
    "\n",
    "# create matrix\n",
    "# np.matrix()\n",
    "# m.I"
   ]
  },
  {
   "cell_type": "code",
   "execution_count": 2,
   "id": "249aa2d4",
   "metadata": {},
   "outputs": [],
   "source": [
    "# Some functions\n",
    "# np.mean() returns the average\n",
    "# np.sum()  returns the sum\n",
    "# np.std\n",
    "# np.median\n",
    "# np.var()\n",
    "# np.max()\n",
    "# np.min()\n",
    "# np.argmax()\n",
    "# np.argmin()\n",
    "# np.argsort()\n",
    "# np.argwhere()\n",
    "# np.quantile"
   ]
  },
  {
   "cell_type": "code",
   "execution_count": 3,
   "id": "8633189e",
   "metadata": {},
   "outputs": [
    {
     "data": {
      "text/plain": [
       "array([[ 0,  1,  2,  3,  4],\n",
       "       [ 5,  6,  7,  8,  9],\n",
       "       [10, 11, 12, 13, 14],\n",
       "       [15, 16, 17, 18, 19]])"
      ]
     },
     "execution_count": 3,
     "metadata": {},
     "output_type": "execute_result"
    }
   ],
   "source": [
    "a=np.arange(20).reshape((4,5))\n",
    "a"
   ]
  },
  {
   "cell_type": "code",
   "execution_count": 8,
   "id": "28a477bb",
   "metadata": {},
   "outputs": [
    {
     "data": {
      "text/plain": [
       "array([ 2.,  7., 12., 17.])"
      ]
     },
     "execution_count": 8,
     "metadata": {},
     "output_type": "execute_result"
    }
   ],
   "source": [
    "np.mean(a, axis=1)"
   ]
  },
  {
   "cell_type": "code",
   "execution_count": 11,
   "id": "cf6d4347",
   "metadata": {},
   "outputs": [
    {
     "data": {
      "text/plain": [
       "array([10, 35, 60, 85])"
      ]
     },
     "execution_count": 11,
     "metadata": {},
     "output_type": "execute_result"
    }
   ],
   "source": [
    "np.sum(a, axis=1)"
   ]
  },
  {
   "cell_type": "code",
   "execution_count": 13,
   "id": "387bef0a",
   "metadata": {},
   "outputs": [
    {
     "data": {
      "text/plain": [
       "array([15, 16, 17, 18, 19])"
      ]
     },
     "execution_count": 13,
     "metadata": {},
     "output_type": "execute_result"
    }
   ],
   "source": [
    "np.max(a, axis=0)"
   ]
  },
  {
   "cell_type": "code",
   "execution_count": 19,
   "id": "71bf1cd9",
   "metadata": {},
   "outputs": [
    {
     "data": {
      "text/plain": [
       "array([10,  7,  8, 15,  4,  3])"
      ]
     },
     "execution_count": 19,
     "metadata": {},
     "output_type": "execute_result"
    }
   ],
   "source": [
    "b=np.array([10,7,8,15,4,3])\n",
    "b"
   ]
  },
  {
   "cell_type": "code",
   "execution_count": 20,
   "id": "ca15524b",
   "metadata": {},
   "outputs": [
    {
     "data": {
      "text/plain": [
       "3"
      ]
     },
     "execution_count": 20,
     "metadata": {},
     "output_type": "execute_result"
    }
   ],
   "source": [
    "np.argmax(b)"
   ]
  },
  {
   "cell_type": "code",
   "execution_count": 21,
   "id": "044ec55c",
   "metadata": {},
   "outputs": [
    {
     "data": {
      "text/plain": [
       "5"
      ]
     },
     "execution_count": 21,
     "metadata": {},
     "output_type": "execute_result"
    }
   ],
   "source": [
    "np.argmin(b)"
   ]
  },
  {
   "cell_type": "code",
   "execution_count": 23,
   "id": "f22adb50",
   "metadata": {},
   "outputs": [
    {
     "data": {
      "text/plain": [
       "array([ 3,  4,  7,  8, 10, 15])"
      ]
     },
     "execution_count": 23,
     "metadata": {},
     "output_type": "execute_result"
    }
   ],
   "source": [
    "np.sort(b)"
   ]
  },
  {
   "cell_type": "code",
   "execution_count": 22,
   "id": "04d5d6d7",
   "metadata": {},
   "outputs": [
    {
     "data": {
      "text/plain": [
       "array([5, 4, 1, 2, 0, 3])"
      ]
     },
     "execution_count": 22,
     "metadata": {},
     "output_type": "execute_result"
    }
   ],
   "source": [
    "np.argsort(b)"
   ]
  },
  {
   "cell_type": "code",
   "execution_count": 25,
   "id": "9daeea61",
   "metadata": {},
   "outputs": [
    {
     "data": {
      "text/plain": [
       "array([10,  7,  8, 15,  4,  3])"
      ]
     },
     "execution_count": 25,
     "metadata": {},
     "output_type": "execute_result"
    }
   ],
   "source": [
    "b"
   ]
  },
  {
   "cell_type": "code",
   "execution_count": 29,
   "id": "805030b3",
   "metadata": {},
   "outputs": [
    {
     "data": {
      "text/plain": [
       "3"
      ]
     },
     "execution_count": 29,
     "metadata": {},
     "output_type": "execute_result"
    }
   ],
   "source": [
    "np.argwhere(b==15)[0,0]"
   ]
  },
  {
   "cell_type": "code",
   "execution_count": 30,
   "id": "bad1c528",
   "metadata": {},
   "outputs": [
    {
     "data": {
      "text/plain": [
       "array([[ 0,  1,  2,  3,  4],\n",
       "       [ 5,  6,  7,  8,  9],\n",
       "       [10, 11, 12, 13, 14],\n",
       "       [15, 16, 17, 18, 19]])"
      ]
     },
     "execution_count": 30,
     "metadata": {},
     "output_type": "execute_result"
    }
   ],
   "source": [
    "a"
   ]
  },
  {
   "cell_type": "code",
   "execution_count": 31,
   "id": "f1a4bcca",
   "metadata": {},
   "outputs": [
    {
     "data": {
      "text/plain": [
       "array([[0, 0],\n",
       "       [0, 2],\n",
       "       [0, 4],\n",
       "       [1, 1],\n",
       "       [1, 3],\n",
       "       [2, 0],\n",
       "       [2, 2],\n",
       "       [2, 4],\n",
       "       [3, 1],\n",
       "       [3, 3]])"
      ]
     },
     "execution_count": 31,
     "metadata": {},
     "output_type": "execute_result"
    }
   ],
   "source": [
    "np.argwhere(a%2==0)"
   ]
  },
  {
   "cell_type": "code",
   "execution_count": 36,
   "id": "89aca0b2",
   "metadata": {},
   "outputs": [],
   "source": [
    "c=np.array([10,  15,  10, 15,  4,  15])"
   ]
  },
  {
   "cell_type": "code",
   "execution_count": 42,
   "id": "53acca83",
   "metadata": {},
   "outputs": [
    {
     "data": {
      "text/plain": [
       "(array([ 4, 10, 15]), array([1, 2, 3]))"
      ]
     },
     "execution_count": 42,
     "metadata": {},
     "output_type": "execute_result"
    }
   ],
   "source": [
    "np.unique(c, return_counts=True)"
   ]
  },
  {
   "cell_type": "code",
   "execution_count": 40,
   "id": "970977d5",
   "metadata": {},
   "outputs": [
    {
     "data": {
      "text/plain": [
       "array([ 4, 10, 15])"
      ]
     },
     "execution_count": 40,
     "metadata": {},
     "output_type": "execute_result"
    }
   ],
   "source": [
    "np.unique(c, return_counts=True)[0]"
   ]
  },
  {
   "cell_type": "code",
   "execution_count": 41,
   "id": "50009e9d",
   "metadata": {},
   "outputs": [
    {
     "data": {
      "text/plain": [
       "array([1, 2, 3])"
      ]
     },
     "execution_count": 41,
     "metadata": {},
     "output_type": "execute_result"
    }
   ],
   "source": [
    "np.unique(c, return_counts=True)[1]"
   ]
  },
  {
   "cell_type": "code",
   "execution_count": 47,
   "id": "7ce467b4",
   "metadata": {},
   "outputs": [
    {
     "data": {
      "text/plain": [
       "15.0"
      ]
     },
     "execution_count": 47,
     "metadata": {},
     "output_type": "execute_result"
    }
   ],
   "source": [
    "np.quantile(c, q=0.75)"
   ]
  },
  {
   "cell_type": "code",
   "execution_count": 134,
   "id": "3db7658f",
   "metadata": {
    "scrolled": true
   },
   "outputs": [
    {
     "data": {
      "text/plain": [
       "array(['2000-01-01', '2000-01-08', '2000-01-15', '2000-01-22',\n",
       "       '2000-01-29', '2000-02-05', '2000-02-12', '2000-02-19',\n",
       "       '2000-02-26', '2000-03-04', '2000-03-11', '2000-03-18',\n",
       "       '2000-03-25', '2000-04-01', '2000-04-08', '2000-04-15',\n",
       "       '2000-04-22', '2000-04-29', '2000-05-06', '2000-05-13',\n",
       "       '2000-05-20', '2000-05-27', '2000-06-03', '2000-06-10',\n",
       "       '2000-06-17', '2000-06-24', '2000-07-01', '2000-07-08',\n",
       "       '2000-07-15', '2000-07-22', '2000-07-29', '2000-08-05',\n",
       "       '2000-08-12', '2000-08-19', '2000-08-26', '2000-09-02',\n",
       "       '2000-09-09', '2000-09-16', '2000-09-23', '2000-09-30',\n",
       "       '2000-10-07', '2000-10-14', '2000-10-21', '2000-10-28',\n",
       "       '2000-11-04', '2000-11-11', '2000-11-18', '2000-11-25',\n",
       "       '2000-12-02', '2000-12-09', '2000-12-16', '2000-12-23',\n",
       "       '2000-12-30'], dtype='datetime64[D]')"
      ]
     },
     "execution_count": 134,
     "metadata": {},
     "output_type": "execute_result"
    }
   ],
   "source": [
    "np.arange(np.datetime64('2000-01-01'), np.datetime64('2001-01-01'), np.timedelta64(1,'W'))"
   ]
  },
  {
   "cell_type": "code",
   "execution_count": 136,
   "id": "1d805ace",
   "metadata": {},
   "outputs": [
    {
     "data": {
      "text/plain": [
       "array(['2000-01', '2000-03', '2000-05', '2000-07', '2000-09', '2000-11'],\n",
       "      dtype='datetime64[M]')"
      ]
     },
     "execution_count": 136,
     "metadata": {},
     "output_type": "execute_result"
    }
   ],
   "source": [
    "np.arange(np.datetime64('2000-01'), np.datetime64('2001-01'), np.timedelta64(2,'M'))"
   ]
  },
  {
   "cell_type": "code",
   "execution_count": 139,
   "id": "2b76b42f",
   "metadata": {},
   "outputs": [
    {
     "data": {
      "text/plain": [
       "array(['2000-01', '2002-01', '2004-01', '2006-01', '2008-01', '2010-01',\n",
       "       '2012-01', '2014-01', '2016-01', '2018-01'], dtype='datetime64[M]')"
      ]
     },
     "execution_count": 139,
     "metadata": {},
     "output_type": "execute_result"
    }
   ],
   "source": [
    "np.arange(np.datetime64('2000-01'), np.datetime64('2020-01'), np.timedelta64(2,'Y'))"
   ]
  },
  {
   "cell_type": "code",
   "execution_count": 144,
   "id": "ef4dedfc",
   "metadata": {},
   "outputs": [
    {
     "data": {
      "text/plain": [
       "array(['2000-01-01T00:00', '2000-01-01T00:02', '2000-01-01T00:04', ...,\n",
       "       '2000-01-31T23:54', '2000-01-31T23:56', '2000-01-31T23:58'],\n",
       "      dtype='datetime64[m]')"
      ]
     },
     "execution_count": 144,
     "metadata": {},
     "output_type": "execute_result"
    }
   ],
   "source": [
    "np.arange(np.datetime64('2000-01-01'), np.datetime64('2000-02-01'), np.timedelta64(2,'m'))"
   ]
  },
  {
   "cell_type": "code",
   "execution_count": 145,
   "id": "fb0f0701",
   "metadata": {},
   "outputs": [
    {
     "data": {
      "text/plain": [
       "'YYYY-MM-DDTHH:MM:SS'"
      ]
     },
     "execution_count": 145,
     "metadata": {},
     "output_type": "execute_result"
    }
   ],
   "source": [
    "'YYYY-MM-DDTHH:MM:SS'"
   ]
  },
  {
   "cell_type": "code",
   "execution_count": 147,
   "id": "416b9ffb",
   "metadata": {},
   "outputs": [],
   "source": [
    "from datetime import datetime"
   ]
  },
  {
   "cell_type": "code",
   "execution_count": 152,
   "id": "fe099d8e",
   "metadata": {
    "scrolled": true
   },
   "outputs": [
    {
     "data": {
      "text/plain": [
       "'2000-01-01'"
      ]
     },
     "execution_count": 152,
     "metadata": {},
     "output_type": "execute_result"
    }
   ],
   "source": [
    "d='01/01/2000'.split('/')[0]\n",
    "m='01/01/2000'.split('/')[1]\n",
    "y='01/01/2000'.split('/')[2]\n",
    "y+'-'+m+'-'+d"
   ]
  },
  {
   "cell_type": "markdown",
   "id": "cdac6ecf",
   "metadata": {},
   "source": [
    "**Exercise 01**\n",
    "\n",
    "`answers.txt` contains students answers of exam questions (each line contains student_id, then answers made by that student)\n",
    "- Write code to read the data from the file, compare students answers to answers key (1 point for each correct answer), then find: \n",
    "\n",
    "    - Means score.\n",
    "    - Id of student of the highest score.\n",
    "    - Id of student of the lowest score.\n",
    "\n",
    "`answerkey = \"B,A,D,D,C,B,D,A,C,C,D,B,A,B,A,C,B,D,A,C,A,A,B,D,D\"`\n",
    "\n",
    "**Hint:** *Try to use numpy arrays*"
   ]
  },
  {
   "cell_type": "code",
   "execution_count": 77,
   "id": "b2d452d9",
   "metadata": {},
   "outputs": [
    {
     "data": {
      "text/plain": [
       "array(['B', 'A', 'D', 'D', 'C', 'B', 'D', 'A', 'C', 'C', 'D', 'B', 'A',\n",
       "       'B', 'A', 'C', 'B', 'D', 'A', 'C', 'A', 'A', 'B', 'D', 'D'],\n",
       "      dtype='<U1')"
      ]
     },
     "execution_count": 77,
     "metadata": {},
     "output_type": "execute_result"
    }
   ],
   "source": [
    "answerkey = \"B,A,D,D,C,B,D,A,C,C,D,B,A,B,A,C,B,D,A,C,A,A,B,D,D\"\n",
    "answerkey= np.array(answerkey.split(','))\n",
    "answerkey"
   ]
  },
  {
   "cell_type": "code",
   "execution_count": 83,
   "id": "ac3b7955",
   "metadata": {},
   "outputs": [
    {
     "name": "stdout",
     "output_type": "stream",
     "text": [
      "The average score 0.784\n"
     ]
    }
   ],
   "source": [
    "import numpy as np\n",
    "d=np.loadtxt('answers.txt',delimiter=',', dtype=str)\n",
    "print('The average score',np.mean(d[:,1:]==answerkey))"
   ]
  },
  {
   "cell_type": "code",
   "execution_count": 106,
   "id": "3d3f9d59",
   "metadata": {},
   "outputs": [],
   "source": [
    "index_of_highest_score_student=np.argmax(np.sum(d[:,1:]==answerkey, axis=1))"
   ]
  },
  {
   "cell_type": "code",
   "execution_count": 124,
   "id": "b3d44d80",
   "metadata": {},
   "outputs": [
    {
     "name": "stdout",
     "output_type": "stream",
     "text": [
      "Id of student of the highest score: N00000016\n"
     ]
    }
   ],
   "source": [
    "print('Id of student of the highest score:',d[index_of_highest_score_student,0])"
   ]
  },
  {
   "cell_type": "code",
   "execution_count": 125,
   "id": "2fc521b2",
   "metadata": {},
   "outputs": [
    {
     "name": "stdout",
     "output_type": "stream",
     "text": [
      "Id of student of the lowest score: N00000001\n"
     ]
    }
   ],
   "source": [
    "print('Id of student of the lowest score:',d[np.argmin(np.sum(d[:,1:]==answerkey, axis=1)),0])"
   ]
  },
  {
   "cell_type": "markdown",
   "id": "85f5b62e",
   "metadata": {},
   "source": [
    "## Generate random numbers"
   ]
  },
  {
   "cell_type": "code",
   "execution_count": 171,
   "id": "65f4feff",
   "metadata": {},
   "outputs": [],
   "source": [
    "np.random.seed(1)"
   ]
  },
  {
   "cell_type": "code",
   "execution_count": 172,
   "id": "d0444bff",
   "metadata": {},
   "outputs": [
    {
     "data": {
      "text/plain": [
       "array([ 1.62434536, -0.61175641, -0.52817175, -1.07296862,  0.86540763,\n",
       "       -2.3015387 ,  1.74481176, -0.7612069 ,  0.3190391 , -0.24937038])"
      ]
     },
     "execution_count": 172,
     "metadata": {},
     "output_type": "execute_result"
    }
   ],
   "source": [
    "np.random.randn(10)   # standard normal distribution"
   ]
  },
  {
   "cell_type": "code",
   "execution_count": 154,
   "id": "e7a8a9ad",
   "metadata": {},
   "outputs": [
    {
     "data": {
      "text/plain": [
       "array([0.6404199 , 0.55285155, 0.88913639, 0.4906787 , 0.51923288,\n",
       "       0.40719683, 0.76977734, 0.49186552, 0.52081864, 0.00614324])"
      ]
     },
     "execution_count": 154,
     "metadata": {},
     "output_type": "execute_result"
    }
   ],
   "source": [
    "np.random.rand(10)  # uniform distribution"
   ]
  },
  {
   "cell_type": "code",
   "execution_count": 156,
   "id": "567be629",
   "metadata": {},
   "outputs": [
    {
     "data": {
      "text/plain": [
       "array([52, 66, 76, 82, 86])"
      ]
     },
     "execution_count": 156,
     "metadata": {},
     "output_type": "execute_result"
    }
   ],
   "source": [
    "np.random.randint(10,100,5)"
   ]
  },
  {
   "cell_type": "code",
   "execution_count": 157,
   "id": "11ebacc4",
   "metadata": {},
   "outputs": [
    {
     "data": {
      "text/plain": [
       "array([0.43932549, 0.90390859, 0.68423131, 0.27969959, 0.31821183,\n",
       "       0.29611042, 0.23320562, 0.57746718, 0.91994893, 0.19715965])"
      ]
     },
     "execution_count": 157,
     "metadata": {},
     "output_type": "execute_result"
    }
   ],
   "source": [
    "np.random.random_sample(10)"
   ]
  },
  {
   "cell_type": "code",
   "execution_count": 166,
   "id": "9d7c513d",
   "metadata": {},
   "outputs": [],
   "source": [
    "data=['hasan','ali','alma','sarah','mike']\n",
    "sample=np.random.choice(data,2,replace=False,p=[0.6, 0.1, 0.1,0.1,0.1])"
   ]
  },
  {
   "cell_type": "code",
   "execution_count": 167,
   "id": "a5fcd20e",
   "metadata": {},
   "outputs": [
    {
     "data": {
      "text/plain": [
       "array(['hasan', 'alma'], dtype='<U5')"
      ]
     },
     "execution_count": 167,
     "metadata": {},
     "output_type": "execute_result"
    }
   ],
   "source": [
    "sample"
   ]
  },
  {
   "cell_type": "markdown",
   "id": "65711b28",
   "metadata": {},
   "source": [
    "## Using stats"
   ]
  },
  {
   "cell_type": "code",
   "execution_count": 186,
   "id": "9c0ac42a",
   "metadata": {},
   "outputs": [
    {
     "data": {
      "text/plain": [
       "array([[ 0,  1,  2,  3],\n",
       "       [ 4,  5,  6,  7],\n",
       "       [ 8,  9, 10, 11],\n",
       "       [12, 13, 14, 15],\n",
       "       [16, 17, 18, 19]])"
      ]
     },
     "execution_count": 186,
     "metadata": {},
     "output_type": "execute_result"
    }
   ],
   "source": [
    "a=np.arange(20).reshape((5,4))\n",
    "a"
   ]
  },
  {
   "cell_type": "code",
   "execution_count": 190,
   "id": "2dda9cfa",
   "metadata": {},
   "outputs": [],
   "source": [
    "a=a.reshape((1,-1))[0]"
   ]
  },
  {
   "cell_type": "code",
   "execution_count": 194,
   "id": "a5a1a4e5",
   "metadata": {},
   "outputs": [
    {
     "data": {
      "text/plain": [
       "array([ 0,  1,  2,  3,  4,  5,  6,  7,  8,  9, 10, 11, 12, 13, 14, 15, 16,\n",
       "       17, 18, 19])"
      ]
     },
     "execution_count": 194,
     "metadata": {},
     "output_type": "execute_result"
    }
   ],
   "source": [
    "a"
   ]
  },
  {
   "cell_type": "code",
   "execution_count": 201,
   "id": "33420028",
   "metadata": {},
   "outputs": [
    {
     "data": {
      "text/plain": [
       "DescribeResult(nobs=20, minmax=(0, 19), mean=9.5, variance=35.0, skewness=0.0, kurtosis=-1.206015037593985)"
      ]
     },
     "execution_count": 201,
     "metadata": {},
     "output_type": "execute_result"
    }
   ],
   "source": [
    "from scipy import stats\n",
    "stats.describe(a)"
   ]
  },
  {
   "cell_type": "code",
   "execution_count": 202,
   "id": "977fac08",
   "metadata": {},
   "outputs": [
    {
     "data": {
      "text/plain": [
       "20"
      ]
     },
     "execution_count": 202,
     "metadata": {},
     "output_type": "execute_result"
    }
   ],
   "source": [
    "stats.describe(a).nobs"
   ]
  },
  {
   "cell_type": "code",
   "execution_count": 205,
   "id": "c59f23f1",
   "metadata": {},
   "outputs": [
    {
     "data": {
      "text/plain": [
       "9.5"
      ]
     },
     "execution_count": 205,
     "metadata": {},
     "output_type": "execute_result"
    }
   ],
   "source": [
    "stats.describe(a)[2]"
   ]
  },
  {
   "cell_type": "code",
   "execution_count": 208,
   "id": "425efe29",
   "metadata": {},
   "outputs": [
    {
     "data": {
      "text/plain": [
       "DescribeResult(nobs=10, minmax=(1.0, 1.0), mean=1.0, variance=0.0, skewness=0.0, kurtosis=-3.0)"
      ]
     },
     "execution_count": 208,
     "metadata": {},
     "output_type": "execute_result"
    }
   ],
   "source": [
    "stats.describe(np.ones(10))"
   ]
  },
  {
   "cell_type": "code",
   "execution_count": 212,
   "id": "9e72ab14",
   "metadata": {},
   "outputs": [],
   "source": [
    "data=['hasan', 'ali', 'alma', 'sarah', 'mike','hasan']"
   ]
  },
  {
   "cell_type": "code",
   "execution_count": 213,
   "id": "9d788aa4",
   "metadata": {},
   "outputs": [
    {
     "name": "stderr",
     "output_type": "stream",
     "text": [
      "<ipython-input-213-2169ce7933ac>:1: DeprecationWarning: `itemfreq` is deprecated!\n",
      "`itemfreq` is deprecated and will be removed in a future version. Use instead `np.unique(..., return_counts=True)`\n",
      "  stats.itemfreq(data)\n"
     ]
    },
    {
     "data": {
      "text/plain": [
       "array([['ali', '1'],\n",
       "       ['alma', '1'],\n",
       "       ['hasan', '2'],\n",
       "       ['mike', '1'],\n",
       "       ['sarah', '1']], dtype='<U21')"
      ]
     },
     "execution_count": 213,
     "metadata": {},
     "output_type": "execute_result"
    }
   ],
   "source": [
    "stats.itemfreq(data)"
   ]
  },
  {
   "cell_type": "code",
   "execution_count": 214,
   "id": "998361a2",
   "metadata": {},
   "outputs": [
    {
     "data": {
      "text/plain": [
       "(array(['ali', 'alma', 'hasan', 'mike', 'sarah'], dtype='<U5'),\n",
       " array([1, 1, 2, 1, 1]))"
      ]
     },
     "execution_count": 214,
     "metadata": {},
     "output_type": "execute_result"
    }
   ],
   "source": [
    "np.unique(data, return_counts=True)"
   ]
  },
  {
   "cell_type": "code",
   "execution_count": 215,
   "id": "a0e4e6d9",
   "metadata": {},
   "outputs": [
    {
     "data": {
      "text/plain": [
       "{'hasan': 2, 'ali': 1, 'alma': 1, 'sarah': 1, 'mike': 1}"
      ]
     },
     "execution_count": 215,
     "metadata": {},
     "output_type": "execute_result"
    }
   ],
   "source": [
    "freq={}\n",
    "for v in data:\n",
    "    if v not in freq:\n",
    "        freq[v]=1\n",
    "    else:\n",
    "        freq[v]+=1\n",
    "freq"
   ]
  },
  {
   "cell_type": "code",
   "execution_count": 227,
   "id": "ec17f799",
   "metadata": {},
   "outputs": [],
   "source": [
    "# Create a distribution"
   ]
  },
  {
   "cell_type": "code",
   "execution_count": 224,
   "id": "c2eab533",
   "metadata": {},
   "outputs": [],
   "source": [
    "mynorm=stats.norm(10,9)"
   ]
  },
  {
   "cell_type": "code",
   "execution_count": 225,
   "id": "ce78c33b",
   "metadata": {},
   "outputs": [
    {
     "data": {
      "text/plain": [
       "array([ 0.09442741, 20.30251339, 18.11431649, 14.52244905, 18.10770354,\n",
       "        3.84644927,  8.89398797,  1.57807509,  7.58900728, 14.7731992 ])"
      ]
     },
     "execution_count": 225,
     "metadata": {},
     "output_type": "execute_result"
    }
   ],
   "source": [
    "mynorm.rvs(10)"
   ]
  },
  {
   "cell_type": "code",
   "execution_count": 226,
   "id": "333d7c07",
   "metadata": {},
   "outputs": [
    {
     "data": {
      "text/plain": [
       "0.04432692004460363"
      ]
     },
     "execution_count": 226,
     "metadata": {},
     "output_type": "execute_result"
    }
   ],
   "source": [
    "mynorm.pdf(10)"
   ]
  },
  {
   "cell_type": "code",
   "execution_count": 223,
   "id": "51d85cb5",
   "metadata": {},
   "outputs": [
    {
     "data": {
      "text/plain": [
       "0.5"
      ]
     },
     "execution_count": 223,
     "metadata": {},
     "output_type": "execute_result"
    }
   ],
   "source": [
    "mynorm.cdf(10)"
   ]
  },
  {
   "cell_type": "code",
   "execution_count": 228,
   "id": "b8d73ec5",
   "metadata": {},
   "outputs": [],
   "source": [
    "hdist=stats.norm(170, 10)"
   ]
  },
  {
   "cell_type": "code",
   "execution_count": 231,
   "id": "78613e41",
   "metadata": {},
   "outputs": [
    {
     "data": {
      "text/plain": [
       "array([166.15682902, 181.11189626, 161.68349322, ..., 160.10521411,\n",
       "       162.68294894, 174.97990354])"
      ]
     },
     "execution_count": 231,
     "metadata": {},
     "output_type": "execute_result"
    }
   ],
   "source": [
    "hdist.rvs(1000000)"
   ]
  },
  {
   "cell_type": "code",
   "execution_count": 234,
   "id": "21a320eb",
   "metadata": {},
   "outputs": [
    {
     "data": {
      "text/plain": [
       "0.8413447460685429"
      ]
     },
     "execution_count": 234,
     "metadata": {},
     "output_type": "execute_result"
    }
   ],
   "source": [
    "hdist.cdf(180)"
   ]
  },
  {
   "cell_type": "code",
   "execution_count": 235,
   "id": "e1966583",
   "metadata": {},
   "outputs": [
    {
     "data": {
      "text/plain": [
       "0.024197072451914336"
      ]
     },
     "execution_count": 235,
     "metadata": {},
     "output_type": "execute_result"
    }
   ],
   "source": [
    "hdist.pdf(160)"
   ]
  },
  {
   "cell_type": "code",
   "execution_count": null,
   "id": "8240fd15",
   "metadata": {},
   "outputs": [],
   "source": []
  }
 ],
 "metadata": {
  "kernelspec": {
   "display_name": "Python 3.8.7 64-bit",
   "language": "python",
   "name": "python3"
  },
  "language_info": {
   "codemirror_mode": {
    "name": "ipython",
    "version": 3
   },
   "file_extension": ".py",
   "mimetype": "text/x-python",
   "name": "python",
   "nbconvert_exporter": "python",
   "pygments_lexer": "ipython3",
   "version": "3.8.7"
  },
  "vscode": {
   "interpreter": {
    "hash": "52634da84371cba311ea128a5ea7cdc41ff074b781779e754b270ff9f8153cee"
   }
  }
 },
 "nbformat": 4,
 "nbformat_minor": 5
}
