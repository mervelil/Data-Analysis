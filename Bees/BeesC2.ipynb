{
 "cells": [
  {
   "cell_type": "code",
   "execution_count": 17,
   "id": "a435223e",
   "metadata": {},
   "outputs": [
    {
     "data": {
      "text/html": [
       "<div>\n",
       "<style scoped>\n",
       "    .dataframe tbody tr th:only-of-type {\n",
       "        vertical-align: middle;\n",
       "    }\n",
       "\n",
       "    .dataframe tbody tr th {\n",
       "        vertical-align: top;\n",
       "    }\n",
       "\n",
       "    .dataframe thead th {\n",
       "        text-align: right;\n",
       "    }\n",
       "</style>\n",
       "<table border=\"1\" class=\"dataframe\">\n",
       "  <thead>\n",
       "    <tr style=\"text-align: right;\">\n",
       "      <th></th>\n",
       "      <th>title,artist,top genre,year,beats.per.minute,energy,danceability,loudness.dB,liveness,valance,length,acousticness,speechiness,popularity</th>\n",
       "    </tr>\n",
       "  </thead>\n",
       "  <tbody>\n",
       "    <tr>\n",
       "      <th>0</th>\n",
       "      <td>Blinding Lights,The Weeknd,canadian contempora...</td>\n",
       "    </tr>\n",
       "    <tr>\n",
       "      <th>1</th>\n",
       "      <td>Watermelon Sugar,Harry Styles,pop,2019,95,82,5...</td>\n",
       "    </tr>\n",
       "    <tr>\n",
       "      <th>2</th>\n",
       "      <td>Mood (feat. iann dior),24kGoldn,cali rap,2021,...</td>\n",
       "    </tr>\n",
       "    <tr>\n",
       "      <th>3</th>\n",
       "      <td>Someone You Loved,Lewis Capaldi,pop,2019,110,4...</td>\n",
       "    </tr>\n",
       "    <tr>\n",
       "      <th>4</th>\n",
       "      <td>Perfect,Ed Sheeran,pop,2017,95,45,60,-6,11,17,...</td>\n",
       "    </tr>\n",
       "  </tbody>\n",
       "</table>\n",
       "</div>"
      ],
      "text/plain": [
       "  title,artist,top genre,year,beats.per.minute,energy,danceability,loudness.dB,liveness,valance,length,acousticness,speechiness,popularity\n",
       "0  Blinding Lights,The Weeknd,canadian contempora...                                                                                      \n",
       "1  Watermelon Sugar,Harry Styles,pop,2019,95,82,5...                                                                                      \n",
       "2  Mood (feat. iann dior),24kGoldn,cali rap,2021,...                                                                                      \n",
       "3  Someone You Loved,Lewis Capaldi,pop,2019,110,4...                                                                                      \n",
       "4  Perfect,Ed Sheeran,pop,2017,95,45,60,-6,11,17,...                                                                                      "
      ]
     },
     "execution_count": 17,
     "metadata": {},
     "output_type": "execute_result"
    }
   ],
   "source": [
    "from random import uniform\n",
    "import pandas as pd\n",
    "import matplotlib.pyplot as plt\n",
    "\n",
    "data = pd.read_table('spotify.csv')\n",
    "data.head()\n"
   ]
  },
  {
   "cell_type": "code",
   "execution_count": 33,
   "id": "415af8e7",
   "metadata": {},
   "outputs": [
    {
     "ename": "NameError",
     "evalue": "name 'median' is not defined",
     "output_type": "error",
     "traceback": [
      "\u001b[1;31m---------------------------------------------------------------------------\u001b[0m",
      "\u001b[1;31mNameError\u001b[0m                                 Traceback (most recent call last)",
      "Input \u001b[1;32mIn [33]\u001b[0m, in \u001b[0;36m<cell line: 85>\u001b[1;34m()\u001b[0m\n\u001b[0;32m     83\u001b[0m b \u001b[38;5;241m=\u001b[39m BeesAlgo()\n\u001b[0;32m     84\u001b[0m \u001b[38;5;28;01mimport\u001b[39;00m \u001b[38;5;21;01mseaborn\u001b[39;00m \u001b[38;5;28;01mas\u001b[39;00m \u001b[38;5;21;01msns\u001b[39;00m\n\u001b[1;32m---> 85\u001b[0m sns\u001b[38;5;241m.\u001b[39mswarmplot(data\u001b[38;5;241m=\u001b[39mdf, x\u001b[38;5;241m=\u001b[39m\u001b[43mmedian\u001b[49m(b\u001b[38;5;241m.\u001b[39mmain()), y\u001b[38;5;241m=\u001b[39mmean(b\u001b[38;5;241m.\u001b[39mmain()))\n",
      "\u001b[1;31mNameError\u001b[0m: name 'median' is not defined"
     ]
    }
   ],
   "source": [
    "from random import uniform\n",
    "import pandas as pd\n",
    "import math\n",
    "import matplotlib.pyplot as plt\n",
    "df= pd.read_csv(\"spotify.csv\")\n",
    "\n",
    "\n",
    "class BeesAlgo:\n",
    "    \n",
    "    def __init__(self):\n",
    "        self.n = 50  # number of scout bees\n",
    "        self.m = 15 # number of sites selected out of n visited sites\n",
    "        self.e = 3 # elite patches\n",
    "        self.nep = 12  # elite bees recruited\n",
    "        self.nsp = 8  # non-elite bees recruited\n",
    "        self.ngh = 0.1  # neighbourhood size\n",
    "        self.maxiter = 500 # number of iterations\n",
    "\n",
    "    # step 1\n",
    "    def rand_init_extended(self, number_of_coordinates, rng1, rng2):\n",
    "        result = []\n",
    "        for i in range(number_of_coordinates):\n",
    "            result.append((uniform(rng1[0], rng1[1]), uniform(rng2[0], rng2[1])))\n",
    "        return result\n",
    "\n",
    "    def rand_init(self, rng):\n",
    "        return self.rand_init_extended(self.n, rng, rng)\n",
    "\n",
    "    def de_jong(self, arr):\n",
    "        # arr[0] = x1, arr[1] = x2\n",
    "        mx = 3905.93 - 100 * (arr[0] ** 2 - arr[1]) ** 2 - (1 - arr[0]) ** 2\n",
    "        return mx\n",
    "\n",
    "    # step 2\n",
    "    def fitness(self, flowers):\n",
    "        result = []\n",
    "        for i in range(len(flowers)):\n",
    "            result.append((flowers[i], self.de_jong(flowers[i])))\n",
    "        return result\n",
    "\n",
    "    # step 5\n",
    "    def recruitment(self, elite_patches, non_elite_patches):\n",
    "        fitness_of_recruits = []\n",
    "        for patch in elite_patches:\n",
    "            fitness_of_recruits.append(self.max_fitness_of_recruits(patch, self.nep))\n",
    "        for patch in non_elite_patches:\n",
    "            fitness_of_recruits.append(self.max_fitness_of_recruits(patch, self.nsp))\n",
    "        return fitness_of_recruits\n",
    "\n",
    "    def max_fitness_of_recruits(self, patch, number_of_recruits):\n",
    "        recruits = self.rand_init_extended(number_of_recruits, [patch[0][0] - self.ngh, patch[0][0] + self.ngh],\n",
    "                                           [patch[0][1] - self.ngh, patch[0][1] + self.ngh])\n",
    "        recruits.append(patch[0])\n",
    "        return self.maximum(recruits)\n",
    "\n",
    "    def maximum(self, flowers):\n",
    "        sites = self.fitness(flowers)\n",
    "        sites = sorted(sites, reverse=True, key=lambda x: x[1])\n",
    "        return sites[0]\n",
    "\n",
    "    # step 7\n",
    "    def remaining_bees(self):\n",
    "        bees = self.rand_init_extended(self.n-self.m, [-2.048, 2.048], [-2.048, 2.048])\n",
    "        return self.fitness(bees)\n",
    "\n",
    "    def main(self):\n",
    "        sites = self.rand_init([-2.048, 2.048])\n",
    "        result = self.fitness(sites)\n",
    "        for i in range(self.maxiter):\n",
    "            # forming new population\n",
    "            population_fitness = sorted(result, reverse=True, key=lambda x: x[1])\n",
    "            elite = population_fitness[:self.e]\n",
    "            non_elite = population_fitness[self.e:self.m]\n",
    "            best_recruits = self.recruitment(elite, non_elite)\n",
    "            rb = self.remaining_bees()\n",
    "            result = best_recruits + rb\n",
    "        population_fitness = sorted(result, reverse=True, key=lambda x: x[1])\n",
    "        return population_fitness\n",
    "\n",
    "#print(b.main())\n",
    "#sns.swarmplot(data=df, x=b, y=b.main())\n",
    "b = BeesAlgo()\n",
    "import seaborn as sns\n",
    "sns.swarmplot(data=df, x=median(b.main()), y=mean(b.main()))\n"
   ]
  },
  {
   "cell_type": "code",
   "execution_count": 34,
   "id": "b83ab528",
   "metadata": {},
   "outputs": [
    {
     "ename": "AttributeError",
     "evalue": "'list' object has no attribute 'median'",
     "output_type": "error",
     "traceback": [
      "\u001b[1;31m---------------------------------------------------------------------------\u001b[0m",
      "\u001b[1;31mAttributeError\u001b[0m                            Traceback (most recent call last)",
      "Input \u001b[1;32mIn [34]\u001b[0m, in \u001b[0;36m<cell line: 3>\u001b[1;34m()\u001b[0m\n\u001b[0;32m      1\u001b[0m b \u001b[38;5;241m=\u001b[39m BeesAlgo()\n\u001b[0;32m      2\u001b[0m \u001b[38;5;28;01mimport\u001b[39;00m \u001b[38;5;21;01mseaborn\u001b[39;00m \u001b[38;5;28;01mas\u001b[39;00m \u001b[38;5;21;01msns\u001b[39;00m\n\u001b[1;32m----> 3\u001b[0m sns\u001b[38;5;241m.\u001b[39mswarmplot(data\u001b[38;5;241m=\u001b[39mdf, x\u001b[38;5;241m=\u001b[39m\u001b[43mb\u001b[49m\u001b[38;5;241;43m.\u001b[39;49m\u001b[43mmain\u001b[49m\u001b[43m(\u001b[49m\u001b[43m)\u001b[49m\u001b[38;5;241;43m.\u001b[39;49m\u001b[43mmedian\u001b[49m(), y\u001b[38;5;241m=\u001b[39mb\u001b[38;5;241m.\u001b[39mmain()\u001b[38;5;241m.\u001b[39mmean())\n",
      "\u001b[1;31mAttributeError\u001b[0m: 'list' object has no attribute 'median'"
     ]
    }
   ],
   "source": [
    "b = BeesAlgo()\n",
    "import seaborn as sns\n",
    "sns.swarmplot(data=df, x=b.main().median(), y=b.main().mean())"
   ]
  },
  {
   "cell_type": "code",
   "execution_count": 24,
   "id": "4a555c77",
   "metadata": {},
   "outputs": [
    {
     "data": {
      "image/png": "[encoded data removed]",
      "text/plain": [
       "<Figure size 432x288 with 1 Axes>"
      ]
     },
     "metadata": {},
     "output_type": "display_data"
    }
   ],
   "source": [
    "tmpdf=df.energy.value_counts()\n",
    "s=tmpdf[tmpdf>100]\n",
    "s['energy']=tmpdf.values[tmpdf.values<100].sum()\n",
    "plt.pie(s.values, labels= s.index);\n"
   ]
  },
  {
   "cell_type": "code",
   "execution_count": null,
   "id": "3b43f350",
   "metadata": {},
   "outputs": [],
   "source": [
    "\n"
   ]
  },
  {
   "cell_type": "code",
   "execution_count": null,
   "id": "daecb2a3",
   "metadata": {},
   "outputs": [],
   "source": []
  },
  {
   "cell_type": "code",
   "execution_count": null,
   "id": "3d636996",
   "metadata": {},
   "outputs": [],
   "source": []
  },
  {
   "cell_type": "code",
   "execution_count": null,
   "id": "4e521a74",
   "metadata": {},
   "outputs": [],
   "source": []
  }
 ],
 "metadata": {
  "kernelspec": {
   "display_name": "Python 3 (ipykernel)",
   "language": "python",
   "name": "python3"
  },
  "language_info": {
   "codemirror_mode": {
    "name": "ipython",
    "version": 3
   },
   "file_extension": ".py",
   "mimetype": "text/x-python",
   "name": "python",
   "nbconvert_exporter": "python",
   "pygments_lexer": "ipython3",
   "version": "3.9.12"
  }
 },
 "nbformat": 4,
 "nbformat_minor": 5
}
